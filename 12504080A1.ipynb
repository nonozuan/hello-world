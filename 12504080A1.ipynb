{
  "nbformat": 4,
  "nbformat_minor": 0,
  "metadata": {
    "colab": {
      "name": "12504080A1.ipynb",
      "version": "0.3.2",
      "provenance": [],
      "collapsed_sections": [],
      "toc_visible": true,
      "include_colab_link": true
    },
    "kernelspec": {
      "name": "python3",
      "display_name": "Python 3"
    }
  },
  "cells": [
    {
      "cell_type": "markdown",
      "metadata": {
        "id": "view-in-github",
        "colab_type": "text"
      },
      "source": [
        "<a href=\"https://colab.research.google.com/github/nonozuan/hello-world/blob/master/12504080A1.ipynb\" target=\"_parent\"><img src=\"https://colab.research.google.com/assets/colab-badge.svg\" alt=\"Open In Colab\"/></a>"
      ]
    },
    {
      "cell_type": "markdown",
      "metadata": {
        "id": "zXlqWCMb9oEP",
        "colab_type": "text"
      },
      "source": [
        "12504080\n",
        "ZHENGKAI LIU"
      ]
    },
    {
      "cell_type": "markdown",
      "metadata": {
        "id": "2dObf0aIAizy",
        "colab_type": "text"
      },
      "source": [
        "link:https://github.com/nonozuan/hello-world/blob/master/12504080A1.ipynb\n",
        "plain text link: github.com/nonozuan/hello-world/blob/master/12504080A1.ipynb"
      ]
    },
    {
      "cell_type": "markdown",
      "metadata": {
        "id": "ZrlvIA9s8IiE",
        "colab_type": "text"
      },
      "source": [
        "# Title"
      ]
    },
    {
      "cell_type": "markdown",
      "metadata": {
        "id": "8HMVp-hE71b-",
        "colab_type": "text"
      },
      "source": [
        "Literature review of ‘Generative Adversarial Nets’"
      ]
    },
    {
      "cell_type": "markdown",
      "metadata": {
        "id": "JgruJNaC8O2J",
        "colab_type": "text"
      },
      "source": [
        "# Content: "
      ]
    },
    {
      "cell_type": "markdown",
      "metadata": {
        "id": "Iu7W8TT87-JC",
        "colab_type": "text"
      },
      "source": [
        "This paper introduced a deep learning approach. The purpose of this machine learning method is to obtain a large number of fake samples that is close to real samples. Firstly, create a generation model G and a Discriminant model D. The input of generation model G and output can be no relationship. Such as noise data as input data, and human face data as output data, or random number as input data, animal image data as output data. The trained model G is essentially a mapping, but it is different from ordinary functions. It can find the relationship of two distributions that are completely unrelated, like I mention before, noise and human faces, random number and animals. About another model D, the discriminant model, is to identify the true and false of the output samples. The input of the model D is a sample, such as a human face image, the output is a probability value. The output value is the result of true and false judgment. If the result greater than ½ the result is true, and if the result is less than ½ the result is false conversely. These two net models are a confrontational relationship. We as developers want to see the generative net wins, then able to output realistic fake samples that the adversarial net can not discriminate. The author’s idea is to obtain a perfect generative nets through training the two nets iteratively and recursively. In the early stages of training, generative net is inferior, because the gap between fake sample of untrained generative net and the real sample is very large. So, the discriminant net can easily judge that they are fake. However, as the training progresses, the generative net will become stronger and stronger. During this period, the adversarial net will also update the data. But the times of training and change in adversarial net parameter must be strictly controlled. Because these have a great impact on the training results. Later in this article, the author also listed some experimental data and results. At the end, the author exploring the advantages and disadvantages of this method."
      ]
    },
    {
      "cell_type": "markdown",
      "metadata": {
        "id": "8c3O7jK18Wig",
        "colab_type": "text"
      },
      "source": [
        "# Innovation"
      ]
    },
    {
      "cell_type": "markdown",
      "metadata": {
        "id": "DeMVZeTA8Ztk",
        "colab_type": "text"
      },
      "source": [
        "This paper contributes a new method. In this method what we need is a real sample data set, and what we gain is a large number of authentic fake data set. We do not need Markov chain in learning. This method is very effective in unsupervised learning. The result of this method is equivalent to increasing the amount of data in small data sets groundless. Generative adversarial nets are very promising, have good application in many fields. Some tasks that are difficult to automate can be achieved by this technology. This technology is a very innovative and clever technology. The idea of creating a discriminator to train the generator is really wonderful. The inspiration of generative adversarial nets is coming from the Minimax Game in Game theory. I was impressed by the author’s innovation."
      ]
    },
    {
      "cell_type": "markdown",
      "metadata": {
        "id": "1lTwGu0m8dUn",
        "colab_type": "text"
      },
      "source": [
        "# Technical quality"
      ]
    },
    {
      "cell_type": "markdown",
      "metadata": {
        "id": "6gmxyXol8nXj",
        "colab_type": "text"
      },
      "source": [
        "The completion is very high in both experimental and theoretical. Of course, generative adversarial nets have some unresolved issue, and it also mentioned in the paper. The pg(x) do not have a clear equation, it is a complex mapping, not only a specific function and it can not be explained like a black box. But it is not a big problem, because the relationship between the input and output of generative net is not the focus of research. For now, from the performance of various techniques base on the generative adversarial nets, we can see this method is widely applied and successful. This shows that this method can be reproduced by readers. In addition, the author inserted a link to his github, this makes it easy for the reader to quickly find out his work for reference. From the experimental results of the author in the paper, learning result of images like numbers and human faces are very successful, extremely realistic. But about the images of animals, the effect is more general. The samples are fuzzy and unreal. This shows that this method although it is perfect, it still does not apply to all aspects. In summary, I think the technical of this article is excellent."
      ]
    },
    {
      "cell_type": "markdown",
      "metadata": {
        "id": "XkajaXGB8rf4",
        "colab_type": "text"
      },
      "source": [
        "# Application and X-Factor"
      ]
    },
    {
      "cell_type": "markdown",
      "metadata": {
        "id": "JKXA9fpR8vpt",
        "colab_type": "text"
      },
      "source": [
        "This technology has wide of applications. It can transfer text to images. We can input sentence and we gain the output images that are related to the text. This task including use natural language processing to understand the description in the input, and the generator to output an accurate, natural image that expresses the text. The meaning is that we can almost create a image in our imagination groundless. The above technology comes from Scott Reed et al. (2016) Another application of generative adversarial nets is super resolution. For the image with low resolution, the generative nets can rebuild the image that make it return to a high resolution image. In this technology, the researchers train the generator with a raw high definition image. They reduce the sampling of the original image, then, use this low resolution image as input data to feed the generator. After that, the generator reconstruction the high resolution image. After, the reconstructed image and original image was handed over to the discriminator, the purpose is to determine which one is the original image. This technology comes from Christian Ledig et al. (2017)"
      ]
    },
    {
      "cell_type": "markdown",
      "metadata": {
        "id": "TENbkXFv8y2t",
        "colab_type": "text"
      },
      "source": [
        "# Presentation"
      ]
    },
    {
      "cell_type": "markdown",
      "metadata": {
        "id": "5fk5JcVF82E0",
        "colab_type": "text"
      },
      "source": [
        "The presentation quality of this article is excellent. The author used some metaphors and analogies to help readers to understand. And some conceptual diagrams have been inserted in this article. The author combines theory with experiment, and they all listed the results in the paper. This make his ideas more convincing."
      ]
    },
    {
      "cell_type": "markdown",
      "metadata": {
        "id": "tJAm9kgz845U",
        "colab_type": "text"
      },
      "source": [
        "# Reference"
      ]
    },
    {
      "cell_type": "markdown",
      "metadata": {
        "id": "-xH91XzN87nG",
        "colab_type": "text"
      },
      "source": [
        "\n",
        "Ian J. G., Jean P., Mehdi M., Bing X., David W., Sherjil O., Aaron C., Yoshuo B. 2014, ‘Generative Adversarial Nets’, arXiv: 1406.2661.\n",
        "Scott R., Zeynep A., Xinchen Y., Lajanugen L., Bernt S., Honglak L. 2016, ‘Generative Adversarial Text to Image Synthesis’, arXiv: 1605.05396.\n",
        "Christian L., Lucas T., Ferenc H., Jose C., Andrew C., Alejandro A., Andrew A., Alykhan T., Johannes T., Zehan W,, Wenzhe S. 2016, ‘Photo-Realistic Single Image Super-Resolution Using a Generative Adversarial Network’, arXiv: 1609.04802.\n"
      ]
    },
    {
      "cell_type": "markdown",
      "metadata": {
        "id": "Yi4GznsrBbwN",
        "colab_type": "text"
      },
      "source": [
        "# Link"
      ]
    },
    {
      "cell_type": "markdown",
      "metadata": {
        "id": "yGZijmeqAkET",
        "colab_type": "text"
      },
      "source": [
        "https://github.com/nonozuan/hello-world/blob/master/12504080A1.ipynb"
      ]
    }
  ]
}