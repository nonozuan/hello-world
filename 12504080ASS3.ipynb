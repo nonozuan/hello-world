{
  "nbformat": 4,
  "nbformat_minor": 0,
  "metadata": {
    "colab": {
      "name": "12504080ASS3",
      "provenance": [],
      "collapsed_sections": [],
      "include_colab_link": true
    },
    "kernelspec": {
      "name": "python3",
      "display_name": "Python 3"
    }
  },
  "cells": [
    {
      "cell_type": "markdown",
      "metadata": {
        "id": "view-in-github",
        "colab_type": "text"
      },
      "source": [
        "<a href=\"https://colab.research.google.com/github/nonozuan/hello-world/blob/master/12504080ASS3.ipynb\" target=\"_parent\"><img src=\"https://colab.research.google.com/assets/colab-badge.svg\" alt=\"Open In Colab\"/></a>"
      ]
    },
    {
      "cell_type": "markdown",
      "metadata": {
        "id": "oSIF6HISEzb7",
        "colab_type": "text"
      },
      "source": [
        "Answer for question 3 :"
      ]
    },
    {
      "cell_type": "markdown",
      "metadata": {
        "id": "XAYoEgNNFKMS",
        "colab_type": "text"
      },
      "source": [
        "In my point of view, the first challenge of this problem is data Due to the particularity of Twitter's social platform, Grab and pre-process data is a bit harder than on a normal web page. And there is the possibility that the user will misuse or fail to see the message because of negligence. The second is obtaining data feature. Features of training data for machine learning are difficult to extract. A tweet contains a lot of information, and support multimedia content. So, there are no clear main features or basic features, which requires the researchers to determine those variables as characteristic variables. The third challenge is the target population is too large. Which means the amount of data is very large. Additionally, when the processing is complicated, processing time is too long. This may lead to its marketing significance has dropped significantly. The last challenge is algorithm design. Most of the existing classification methods are not very suitable for the requirements of this task. And Twitter can @ other people to push content to someone else’s page. This also complicates the construction of the propagation model.\n"
      ]
    },
    {
      "cell_type": "markdown",
      "metadata": {
        "id": "Kr0pD31lFull",
        "colab_type": "text"
      },
      "source": [
        "The first method I am going to describe is to create a responsive prediction model base on an ego network frame work. Which fits well with the self-centered nature of the “follow” or “friend” relationship of the social platform. This approach was proposed by Rao P et al. (2018). They use breadth-first traversing to catch the information of users and their friends. This approach will read the data as an ego network. If the ego user as level zero, it will read users till level two. Then, they analyze the user’s status. Including their tweets and statuses, and the average of following and friends. Also include the turnaround time and retweets of each tweet. The follower data as input data in prediction model, this covered users and relations and statuses. Then make predictions for massage propagation. It is a classifier based on decision tree. The main role of the classifier is to predict whether users will receive forwarding. After, reduce the ego network. Generate the weighted ego network for level larger than level one users. The purpose of this move is to prune the connections according to the turnaround time and retweet probability. Then retrospective this approach.\n",
        "The result of this approach is acceptable. The totally input data is 336769 users and 395504 relations and 264298 statuses. For this amount of data, its accuracy reached 86.4%\n"
      ]
    },
    {
      "cell_type": "markdown",
      "metadata": {
        "id": "8ocI71-dIMvy",
        "colab_type": "text"
      },
      "source": [
        "This research although can predict the retweets of a twitter message, its relationship with the content of the tweet is not very large. Because its prediction is based on user characteristics and their followers’ information and the connection between them. So, although this research has certain market significance, it has little to do with how to build a big influential tweet."
      ]
    },
    {
      "cell_type": "markdown",
      "metadata": {
        "id": "nSgrL0haIWU3",
        "colab_type": "text"
      },
      "source": [
        "The second approach I am going to describe has not been fully achieve. At least I haven't found anyone to do this research, or I don't have enough ability or time to implement it. But I think this research is completely feasible. First, we can obtain a distributed vector representation of a word by a word vector generation tool, and convert the tweet into a vector matrix form. For multimedia content such as videos or pictures, a parameter can be added to indicate whether there is a picture or video. Then, the obtained vector matrix is input into the convolutional neural network language model for pre-training, and the features of the tweet are extracted to obtain a multi-dimensional feature vector. After, use different features to vectorize the user, cluster the users, initialize a convolutional neural network model for each cluster, and select samples to be sent to their respective models for training. Last, the classification is performed by a linear classifier, and the category with the highest probability is the category to which the microblog belongs, and the number of reposts is obtained."
      ]
    },
    {
      "cell_type": "markdown",
      "metadata": {
        "id": "1Xx675TtIZad",
        "colab_type": "text"
      },
      "source": [
        "The biggest improvement of this approach is the ability to extract the characteristics of the tweet, and link the characteristics of the tweet to the user, not just based on the influence of the user or propagation model."
      ]
    },
    {
      "cell_type": "markdown",
      "metadata": {
        "id": "DZRIf8MXIbRb",
        "colab_type": "text"
      },
      "source": [
        "The most obvious ethical and social consequences are privacy. In the process of crawling user information, although the researchers will pay attention, it will invade the privacy of a considerable number of users. Other than this, if this research is applied to the market, then it will cause the inducibility of marketing advertisement is too strong for the users. Further, this kind of technique can even be used to manipulate public opinion. Actually, this has a similar case earlier. Trump hired Cambridge Analytica as his data analysis team during his presidential campaign. Later, Cambridge Analytica was found to use the illegally obtained Facebook users’ data to predict and target political advertisements. Although this is not a direct manipulation of the election, it is still an unfair means in the competition. And people obviously do not want others to induce their own opinion. What’s more, this incident also involves privacy and sensitive data leakage. Therefore, organizations that have the ability to use such technologies need to be disciplined. And also this kind of technique need to be supervision."
      ]
    },
    {
      "cell_type": "markdown",
      "metadata": {
        "id": "IapPFz2SIeNV",
        "colab_type": "text"
      },
      "source": [
        "Reference\n",
        "Rao P. ; Venkatesha M., Kanavalli, A., Shenoy P., Venugopal K. 2018, ‘A Micromodel to Predict Message Propagation for Twitter Users’, International Conference on Data Science and Engineering (ICDSE), August 2018, pp.1-5\n",
        "Ballhaus R., Bykowicz J. 2017, ‘Data Firm's WikiLeaks Outreach Came as It Joined Trump Campaign’, The Wall Street Journal Eastern Edition, Nov 11, 2017, Vol.0(0)\n"
      ]
    }
  ]
}